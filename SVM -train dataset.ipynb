{
 "cells": [
  {
   "cell_type": "code",
   "execution_count": 1,
   "id": "751c0ede",
   "metadata": {},
   "outputs": [
    {
     "name": "stderr",
     "output_type": "stream",
     "text": [
      "[nltk_data] Downloading package stopwords to C:\\Users\\Tech\n",
      "[nltk_data]     Line\\AppData\\Roaming\\nltk_data...\n",
      "[nltk_data]   Package stopwords is already up-to-date!\n"
     ]
    },
    {
     "name": "stdout",
     "output_type": "stream",
     "text": [
      "id         0\n",
      "title      0\n",
      "author     0\n",
      "text       0\n",
      "label      0\n",
      "content    0\n",
      "dtype: int64\n",
      "Accuracy score on the training data (SVM): 0.9990985576923077\n",
      "Accuracy score on the test data (SVM): 0.9889423076923077\n",
      "Prediction using SVM: 1\n",
      "The news is Fake (SVM)\n"
     ]
    }
   ],
   "source": [
    "import numpy as np\n",
    "import pandas as pd\n",
    "import re\n",
    "from nltk.corpus import stopwords\n",
    "from nltk.stem.porter import PorterStemmer\n",
    "from sklearn.feature_extraction.text import TfidfVectorizer\n",
    "from sklearn.model_selection import train_test_split\n",
    "from sklearn.svm import SVC  # Import Support Vector Machine\n",
    "from sklearn.metrics import accuracy_score\n",
    "\n",
    "import nltk\n",
    "nltk.download('stopwords')\n",
    "\n",
    "# Load the dataset and combine 'author' and 'title'\n",
    "news_dataset = pd.read_csv(r\"C:\\Users\\Tech Line\\Desktop\\1111\\fake-new-detection-machine-learning\\data set\\train.csv\")\n",
    "\n",
    "# replacing the null values with empty string\n",
    "news_dataset = news_dataset.fillna('')\n",
    "\n",
    "news_dataset['content'] = news_dataset['author'].fillna('') + ' ' + news_dataset['title'].fillna('') \n",
    "\n",
    "# counting the number of missing values in the dataset\n",
    "news_dataset.isnull().sum()\n",
    "\n",
    "print(news_dataset.isnull().sum())\n",
    "\n",
    "# Drop unnecessary columns\n",
    "X = news_dataset.drop(columns='label')\n",
    "Y = news_dataset['label']\n",
    "\n",
    "# Text preprocessing using stemming\n",
    "port_stem = PorterStemmer()\n",
    "stop_words = set(stopwords.words('english'))\n",
    "\n",
    "def stemming(content):\n",
    "    content = re.sub('[^a-zA-Z]', ' ', content.lower())\n",
    "    words = [port_stem.stem(word) for word in content.split() if word not in stop_words]\n",
    "    return ' '.join(words)\n",
    "\n",
    "news_dataset['content'] = news_dataset['content'].apply(stemming)\n",
    "\n",
    "# Separating the data and label\n",
    "X = news_dataset['content'].values\n",
    "Y = news_dataset['label'].values\n",
    "\n",
    "# Converting the textual data to numerical data\n",
    "vectorizer = TfidfVectorizer()\n",
    "X = vectorizer.fit_transform(X)\n",
    "\n",
    "# Splitting the data\n",
    "X_train, X_test, Y_train, Y_test = train_test_split(X, Y, test_size=0.2, stratify=Y, random_state=2)\n",
    "\n",
    "\n",
    "# Training a Support Vector Machine model\n",
    "svm_model = SVC()\n",
    "svm_model.fit(X_train, Y_train)\n",
    "\n",
    "# Evaluating the Support Vector Machine model\n",
    "svm_training_data_accuracy = accuracy_score(svm_model.predict(X_train), Y_train)\n",
    "svm_test_data_accuracy = accuracy_score(svm_model.predict(X_test), Y_test)\n",
    "\n",
    "print('Accuracy score on the training data (SVM):', svm_training_data_accuracy)\n",
    "print('Accuracy score on the test data (SVM):', svm_test_data_accuracy)\n",
    "\n",
    "X_new = X_test[5]\n",
    "\n",
    "\n",
    "# Prediction using SVM\n",
    "svm_prediction = svm_model.predict(X_new.reshape(1, -1))\n",
    "print('Prediction using SVM:', svm_prediction[0])\n",
    "\n",
    "if svm_prediction[0] == 0:\n",
    "    print('The news is Real (SVM)')\n",
    "else:\n",
    "    print('The news is Fake (SVM)')"
   ]
  },
  {
   "cell_type": "code",
   "execution_count": null,
   "id": "8239ddb4",
   "metadata": {},
   "outputs": [],
   "source": []
  }
 ],
 "metadata": {
  "kernelspec": {
   "display_name": "Python 3 (ipykernel)",
   "language": "python",
   "name": "python3"
  },
  "language_info": {
   "codemirror_mode": {
    "name": "ipython",
    "version": 3
   },
   "file_extension": ".py",
   "mimetype": "text/x-python",
   "name": "python",
   "nbconvert_exporter": "python",
   "pygments_lexer": "ipython3",
   "version": "3.11.5"
  }
 },
 "nbformat": 4,
 "nbformat_minor": 5
}
